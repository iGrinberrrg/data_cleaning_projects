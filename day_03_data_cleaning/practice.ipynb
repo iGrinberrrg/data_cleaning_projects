{
 "cells": [
  {
   "cell_type": "markdown",
   "id": "08e328e6",
   "metadata": {},
   "source": [
    "# Data Cleaning Project – Mixed Orders Dataset\n",
    "\n",
    "In this project, I practice core data cleaning techniques using a fictional mixed orders dataset. The dataset contains common data quality issues like:\n",
    "\n",
    "- `price`: Missing values and wrong use of other currencies\n",
    "- `order_date`: Missing values and no pattern\n",
    "- `status`: Wrong formatting\n",
    "- `city_state`: Separate city and state\n",
    "\n",
    "This type of task is essential in real-world data projects, where raw data must be cleaned before analysis or modeling."
   ]
  },
  {
   "cell_type": "code",
   "execution_count": 1,
   "id": "cc751231",
   "metadata": {},
   "outputs": [],
   "source": [
    "import pandas as pd"
   ]
  },
  {
   "cell_type": "code",
   "execution_count": 2,
   "id": "b77dcc2b",
   "metadata": {},
   "outputs": [],
   "source": [
    "df = pd.read_csv('pedidos_mistos.csv')"
   ]
  },
  {
   "cell_type": "code",
   "execution_count": 3,
   "id": "4a6dc8f0",
   "metadata": {},
   "outputs": [
    {
     "name": "stdout",
     "output_type": "stream",
     "text": [
      "<class 'pandas.core.frame.DataFrame'>\n",
      "RangeIndex: 7 entries, 0 to 6\n",
      "Data columns (total 5 columns):\n",
      " #   Column      Non-Null Count  Dtype \n",
      "---  ------      --------------  ----- \n",
      " 0   order_id    7 non-null      int64 \n",
      " 1   price       6 non-null      object\n",
      " 2   order_date  6 non-null      object\n",
      " 3   status      7 non-null      object\n",
      " 4   city_state  7 non-null      object\n",
      "dtypes: int64(1), object(4)\n",
      "memory usage: 412.0+ bytes\n"
     ]
    },
    {
     "data": {
      "text/html": [
       "<div>\n",
       "<style scoped>\n",
       "    .dataframe tbody tr th:only-of-type {\n",
       "        vertical-align: middle;\n",
       "    }\n",
       "\n",
       "    .dataframe tbody tr th {\n",
       "        vertical-align: top;\n",
       "    }\n",
       "\n",
       "    .dataframe thead th {\n",
       "        text-align: right;\n",
       "    }\n",
       "</style>\n",
       "<table border=\"1\" class=\"dataframe\">\n",
       "  <thead>\n",
       "    <tr style=\"text-align: right;\">\n",
       "      <th></th>\n",
       "      <th>order_id</th>\n",
       "      <th>price</th>\n",
       "      <th>order_date</th>\n",
       "      <th>status</th>\n",
       "      <th>city_state</th>\n",
       "    </tr>\n",
       "  </thead>\n",
       "  <tbody>\n",
       "    <tr>\n",
       "      <th>0</th>\n",
       "      <td>12345</td>\n",
       "      <td>R$ 199,99</td>\n",
       "      <td>01-04-2024</td>\n",
       "      <td>Em Trânsito</td>\n",
       "      <td>São Paulo - SP</td>\n",
       "    </tr>\n",
       "    <tr>\n",
       "      <th>1</th>\n",
       "      <td>12346</td>\n",
       "      <td>USD 180.00</td>\n",
       "      <td>2024/04/02</td>\n",
       "      <td>Entregue</td>\n",
       "      <td>Rio de Janeiro,RJ</td>\n",
       "    </tr>\n",
       "    <tr>\n",
       "      <th>2</th>\n",
       "      <td>12347</td>\n",
       "      <td>R$150.50</td>\n",
       "      <td>3 Abr 2024</td>\n",
       "      <td>Cancelado</td>\n",
       "      <td>Curitiba - PR</td>\n",
       "    </tr>\n",
       "    <tr>\n",
       "      <th>3</th>\n",
       "      <td>12348</td>\n",
       "      <td>€210,75</td>\n",
       "      <td>04.04.2024</td>\n",
       "      <td>Pendente</td>\n",
       "      <td>Salvador-BA</td>\n",
       "    </tr>\n",
       "    <tr>\n",
       "      <th>4</th>\n",
       "      <td>12349</td>\n",
       "      <td>NaN</td>\n",
       "      <td>2024-04-05</td>\n",
       "      <td>entregue</td>\n",
       "      <td>Recife , PE</td>\n",
       "    </tr>\n",
       "    <tr>\n",
       "      <th>5</th>\n",
       "      <td>12350</td>\n",
       "      <td>R$ NaN</td>\n",
       "      <td>NaN</td>\n",
       "      <td>Cancelado</td>\n",
       "      <td>Belo Horizonte - MG</td>\n",
       "    </tr>\n",
       "    <tr>\n",
       "      <th>6</th>\n",
       "      <td>12351</td>\n",
       "      <td>199</td>\n",
       "      <td>06/04/24</td>\n",
       "      <td>EM TRÂNSITO</td>\n",
       "      <td>Fortaleza - CE</td>\n",
       "    </tr>\n",
       "  </tbody>\n",
       "</table>\n",
       "</div>"
      ],
      "text/plain": [
       "   order_id       price  order_date       status           city_state\n",
       "0     12345   R$ 199,99  01-04-2024  Em Trânsito       São Paulo - SP\n",
       "1     12346  USD 180.00  2024/04/02     Entregue    Rio de Janeiro,RJ\n",
       "2     12347    R$150.50  3 Abr 2024    Cancelado        Curitiba - PR\n",
       "3     12348     €210,75  04.04.2024     Pendente          Salvador-BA\n",
       "4     12349         NaN  2024-04-05     entregue          Recife , PE\n",
       "5     12350      R$ NaN         NaN    Cancelado  Belo Horizonte - MG\n",
       "6     12351         199    06/04/24  EM TRÂNSITO       Fortaleza - CE"
      ]
     },
     "execution_count": 3,
     "metadata": {},
     "output_type": "execute_result"
    }
   ],
   "source": [
    "df.info()\n",
    "df"
   ]
  },
  {
   "cell_type": "markdown",
   "id": "83239ddd",
   "metadata": {},
   "source": [
    "Problems:\n",
    "- `price`: Missing values and wrong use of other currencies\n",
    "- `order_date`: Missing values and no pattern\n",
    "- `status`: Wrong formatting\n",
    "- `city_state`: Separate city and state"
   ]
  },
  {
   "cell_type": "markdown",
   "id": "d4325da3",
   "metadata": {},
   "source": [
    "### `price`"
   ]
  },
  {
   "cell_type": "code",
   "execution_count": 4,
   "id": "78cc4d99",
   "metadata": {},
   "outputs": [],
   "source": [
    "# First ill remove the letters from the `price` column and convert it to numeric\n",
    "df['price'] = df['price'].str.replace(r'USD|R\\$|\\$|€| ','', regex=True) # Removed currency symbols, because they are all in USD"
   ]
  },
  {
   "cell_type": "code",
   "execution_count": 5,
   "id": "7d295466",
   "metadata": {},
   "outputs": [
    {
     "data": {
      "text/plain": [
       "0    199.99\n",
       "1    180.00\n",
       "2    150.50\n",
       "3    210.75\n",
       "4       NaN\n",
       "5       NaN\n",
       "6    199.00\n",
       "Name: price, dtype: float64"
      ]
     },
     "execution_count": 5,
     "metadata": {},
     "output_type": "execute_result"
    }
   ],
   "source": [
    "# Now I will convert the `price` column to float, replacing commas with dots\n",
    "df['price'] = df['price'].str.replace(',','.').astype(float).round(2)\n",
    "df['price']"
   ]
  },
  {
   "cell_type": "markdown",
   "id": "743e8b31",
   "metadata": {},
   "source": [
    "### `order_date`"
   ]
  },
  {
   "cell_type": "code",
   "execution_count": 6,
   "id": "16139df2",
   "metadata": {},
   "outputs": [
    {
     "data": {
      "text/plain": [
       "0    01/04/2024\n",
       "1    2024/04/02\n",
       "2    3/Abr/2024\n",
       "3    04/04/2024\n",
       "4    2024/04/05\n",
       "5           NaN\n",
       "6      06/04/24\n",
       "Name: order_date_clean, dtype: object"
      ]
     },
     "execution_count": 6,
     "metadata": {},
     "output_type": "execute_result"
    }
   ],
   "source": [
    "# order_date is all in a different format, need to fix the pattern\n",
    "df['order_date_clean'] = df['order_date'].str.replace(r'-|\\.| ', '/', regex=True)\n",
    "df['order_date_clean']"
   ]
  },
  {
   "cell_type": "code",
   "execution_count": 7,
   "id": "c6a97f91",
   "metadata": {},
   "outputs": [],
   "source": [
    "# Ill make a dictionary to map the Portuguese month abbreviations to English\n",
    "# so I can standardize the date format\n",
    "months = {\n",
    "    'Jan': 'Jan', 'Fev': 'Feb', 'Mar': 'Mar', 'Abr': 'Apr',\n",
    "    'Mai': 'May', 'Jun': 'Jun', 'Jul': 'Jul', 'Ago': 'Aug',\n",
    "    'Set': 'Sep', 'Out': 'Oct', 'Nov': 'Nov', 'Dez': 'Dec'}\n",
    "\n",
    "# Here I will replace the Portuguese month abbreviations with English ones\n",
    "for pt, en in months.items():\n",
    "    df['order_date_clean'] = df['order_date_clean'].str.replace(pt, en)\n",
    "\n",
    "# And i will use a function to parse the dates in different formats, that i already used in the previous notebook\n",
    "def parse_date(date_str):\n",
    "    try:\n",
    "        # It tries to parse as year-month-day\n",
    "        return pd.to_datetime(date_str, format='%Y-%m-%d')\n",
    "    except ValueError:\n",
    "        # If it fails, it tries day/month/year\n",
    "        return pd.to_datetime(date_str, dayfirst=True)\n",
    "\n",
    "df['order_date'] = df['order_date_clean'].apply(parse_date)\n",
    "df = df.drop('order_date_clean', axis=1)\n"
   ]
  },
  {
   "cell_type": "code",
   "execution_count": 8,
   "id": "6f987699",
   "metadata": {},
   "outputs": [
    {
     "data": {
      "text/html": [
       "<div>\n",
       "<style scoped>\n",
       "    .dataframe tbody tr th:only-of-type {\n",
       "        vertical-align: middle;\n",
       "    }\n",
       "\n",
       "    .dataframe tbody tr th {\n",
       "        vertical-align: top;\n",
       "    }\n",
       "\n",
       "    .dataframe thead th {\n",
       "        text-align: right;\n",
       "    }\n",
       "</style>\n",
       "<table border=\"1\" class=\"dataframe\">\n",
       "  <thead>\n",
       "    <tr style=\"text-align: right;\">\n",
       "      <th></th>\n",
       "      <th>order_id</th>\n",
       "      <th>price</th>\n",
       "      <th>order_date</th>\n",
       "      <th>status</th>\n",
       "      <th>city_state</th>\n",
       "    </tr>\n",
       "  </thead>\n",
       "  <tbody>\n",
       "    <tr>\n",
       "      <th>0</th>\n",
       "      <td>12345</td>\n",
       "      <td>199.99</td>\n",
       "      <td>2024-04-01</td>\n",
       "      <td>Em Trânsito</td>\n",
       "      <td>São Paulo - SP</td>\n",
       "    </tr>\n",
       "    <tr>\n",
       "      <th>1</th>\n",
       "      <td>12346</td>\n",
       "      <td>180.00</td>\n",
       "      <td>2024-02-04</td>\n",
       "      <td>Entregue</td>\n",
       "      <td>Rio de Janeiro,RJ</td>\n",
       "    </tr>\n",
       "    <tr>\n",
       "      <th>2</th>\n",
       "      <td>12347</td>\n",
       "      <td>150.50</td>\n",
       "      <td>2024-04-03</td>\n",
       "      <td>Cancelado</td>\n",
       "      <td>Curitiba - PR</td>\n",
       "    </tr>\n",
       "    <tr>\n",
       "      <th>3</th>\n",
       "      <td>12348</td>\n",
       "      <td>210.75</td>\n",
       "      <td>2024-04-04</td>\n",
       "      <td>Pendente</td>\n",
       "      <td>Salvador-BA</td>\n",
       "    </tr>\n",
       "    <tr>\n",
       "      <th>4</th>\n",
       "      <td>12349</td>\n",
       "      <td>NaN</td>\n",
       "      <td>2024-05-04</td>\n",
       "      <td>entregue</td>\n",
       "      <td>Recife , PE</td>\n",
       "    </tr>\n",
       "    <tr>\n",
       "      <th>5</th>\n",
       "      <td>12350</td>\n",
       "      <td>NaN</td>\n",
       "      <td>NaT</td>\n",
       "      <td>Cancelado</td>\n",
       "      <td>Belo Horizonte - MG</td>\n",
       "    </tr>\n",
       "    <tr>\n",
       "      <th>6</th>\n",
       "      <td>12351</td>\n",
       "      <td>199.00</td>\n",
       "      <td>2024-04-06</td>\n",
       "      <td>EM TRÂNSITO</td>\n",
       "      <td>Fortaleza - CE</td>\n",
       "    </tr>\n",
       "  </tbody>\n",
       "</table>\n",
       "</div>"
      ],
      "text/plain": [
       "   order_id   price order_date       status           city_state\n",
       "0     12345  199.99 2024-04-01  Em Trânsito       São Paulo - SP\n",
       "1     12346  180.00 2024-02-04     Entregue    Rio de Janeiro,RJ\n",
       "2     12347  150.50 2024-04-03    Cancelado        Curitiba - PR\n",
       "3     12348  210.75 2024-04-04     Pendente          Salvador-BA\n",
       "4     12349     NaN 2024-05-04     entregue          Recife , PE\n",
       "5     12350     NaN        NaT    Cancelado  Belo Horizonte - MG\n",
       "6     12351  199.00 2024-04-06  EM TRÂNSITO       Fortaleza - CE"
      ]
     },
     "execution_count": 8,
     "metadata": {},
     "output_type": "execute_result"
    }
   ],
   "source": [
    "df"
   ]
  },
  {
   "cell_type": "markdown",
   "id": "edbd6d7b",
   "metadata": {},
   "source": [
    "### `status`"
   ]
  },
  {
   "cell_type": "code",
   "execution_count": 9,
   "id": "7f034c7c",
   "metadata": {},
   "outputs": [
    {
     "data": {
      "text/plain": [
       "0    Em Trânsito\n",
       "1       Entregue\n",
       "2      Cancelado\n",
       "3       Pendente\n",
       "4       Entregue\n",
       "5      Cancelado\n",
       "6    Em Trânsito\n",
       "Name: status, dtype: object"
      ]
     },
     "execution_count": 9,
     "metadata": {},
     "output_type": "execute_result"
    }
   ],
   "source": [
    "# The formating of the `status` column is inconsistent, so I will standardize it\n",
    "df['status'] = df['status'].str.title().str.strip()\n",
    "df['status']"
   ]
  },
  {
   "cell_type": "markdown",
   "id": "d5480361",
   "metadata": {},
   "source": [
    "### `city_state`"
   ]
  },
  {
   "cell_type": "code",
   "execution_count": 10,
   "id": "6f4340dd",
   "metadata": {},
   "outputs": [
    {
     "data": {
      "text/html": [
       "<div>\n",
       "<style scoped>\n",
       "    .dataframe tbody tr th:only-of-type {\n",
       "        vertical-align: middle;\n",
       "    }\n",
       "\n",
       "    .dataframe tbody tr th {\n",
       "        vertical-align: top;\n",
       "    }\n",
       "\n",
       "    .dataframe thead th {\n",
       "        text-align: right;\n",
       "    }\n",
       "</style>\n",
       "<table border=\"1\" class=\"dataframe\">\n",
       "  <thead>\n",
       "    <tr style=\"text-align: right;\">\n",
       "      <th></th>\n",
       "      <th>city</th>\n",
       "      <th>state</th>\n",
       "    </tr>\n",
       "  </thead>\n",
       "  <tbody>\n",
       "    <tr>\n",
       "      <th>0</th>\n",
       "      <td>São Paulo</td>\n",
       "      <td>SP</td>\n",
       "    </tr>\n",
       "    <tr>\n",
       "      <th>1</th>\n",
       "      <td>Rio de Janeiro</td>\n",
       "      <td>RJ</td>\n",
       "    </tr>\n",
       "    <tr>\n",
       "      <th>2</th>\n",
       "      <td>Curitiba</td>\n",
       "      <td>PR</td>\n",
       "    </tr>\n",
       "    <tr>\n",
       "      <th>3</th>\n",
       "      <td>Salvador</td>\n",
       "      <td>BA</td>\n",
       "    </tr>\n",
       "    <tr>\n",
       "      <th>4</th>\n",
       "      <td>Recife</td>\n",
       "      <td>PE</td>\n",
       "    </tr>\n",
       "    <tr>\n",
       "      <th>5</th>\n",
       "      <td>Belo Horizonte</td>\n",
       "      <td>MG</td>\n",
       "    </tr>\n",
       "    <tr>\n",
       "      <th>6</th>\n",
       "      <td>Fortaleza</td>\n",
       "      <td>CE</td>\n",
       "    </tr>\n",
       "  </tbody>\n",
       "</table>\n",
       "</div>"
      ],
      "text/plain": [
       "              city state\n",
       "0       São Paulo     SP\n",
       "1   Rio de Janeiro    RJ\n",
       "2        Curitiba     PR\n",
       "3         Salvador    BA\n",
       "4          Recife     PE\n",
       "5  Belo Horizonte     MG\n",
       "6       Fortaleza     CE"
      ]
     },
     "execution_count": 10,
     "metadata": {},
     "output_type": "execute_result"
    }
   ],
   "source": [
    "# Here ill separate the `city_state` column into `city` and `state`\n",
    "df['city_state'] = df['city_state'].str.replace(r'-', ',', regex=True)\n",
    "df[['city', 'state']] = df['city_state'].str.split(',', expand=True)\n",
    "df[['city', 'state']]"
   ]
  },
  {
   "cell_type": "code",
   "execution_count": 11,
   "id": "bee22e02",
   "metadata": {},
   "outputs": [
    {
     "data": {
      "text/plain": [
       "0    2\n",
       "1    2\n",
       "2    2\n",
       "3    2\n",
       "4    2\n",
       "5    2\n",
       "6    2\n",
       "Name: state, dtype: int64"
      ]
     },
     "execution_count": 11,
     "metadata": {},
     "output_type": "execute_result"
    }
   ],
   "source": [
    "# And to make sure there is no blank spaces in the `city` and `state` columns\n",
    "df['city'] = df['city'].str.strip()\n",
    "df['state'] = df['state'].str.strip()\n",
    "\n",
    "# Just to make sure it worked, I will check the length of the `state` column\n",
    "df['state'].str.len()"
   ]
  },
  {
   "cell_type": "markdown",
   "id": "f4c7ec49",
   "metadata": {},
   "source": [
    "# Summary of Cleaning\n",
    "\n",
    "- Cleaned `price` (fixed its Type and correct currency)  \n",
    "- Cleaned `email` (standardized to US format and standardized it)  \n",
    "- Cleaned `status` (fixed its format)\n",
    "- Cleaned `city_state` (separated into 2 columns, `city` and `state`)\n",
    "\n",
    "The cleaned dataset can now be saved and used in future analysis."
   ]
  },
  {
   "cell_type": "code",
   "execution_count": null,
   "id": "e05dbb47",
   "metadata": {},
   "outputs": [],
   "source": [
    "df.to_csv('mixed_order_clean.csv', index=False)"
   ]
  }
 ],
 "metadata": {
  "kernelspec": {
   "display_name": "Python 3",
   "language": "python",
   "name": "python3"
  },
  "language_info": {
   "codemirror_mode": {
    "name": "ipython",
    "version": 3
   },
   "file_extension": ".py",
   "mimetype": "text/x-python",
   "name": "python",
   "nbconvert_exporter": "python",
   "pygments_lexer": "ipython3",
   "version": "3.13.1"
  }
 },
 "nbformat": 4,
 "nbformat_minor": 5
}
