{
 "cells": [
  {
   "cell_type": "markdown",
   "id": "13509c5d",
   "metadata": {},
   "source": [
    "# Data Cleaning Project – Customer Dataset\n",
    "\n",
    "In this project, I practice core data cleaning techniques using a fictional customer dataset. The dataset contains common data quality issues like:\n",
    "\n",
    "- Misformatted names and emails  \n",
    "- Invalid phone numbers   \n",
    "- Inconsistent or invalid dates  \n",
    "\n",
    "This type of task is essential in real-world data projects, where raw data must be cleaned before analysis or modeling."
   ]
  },
  {
   "cell_type": "code",
   "execution_count": 1,
   "id": "dd6d18c2",
   "metadata": {},
   "outputs": [],
   "source": [
    "import pandas as pd"
   ]
  },
  {
   "cell_type": "code",
   "execution_count": 2,
   "id": "09668b18",
   "metadata": {},
   "outputs": [],
   "source": [
    "df = pd.read_csv('clientes.csv')"
   ]
  },
  {
   "cell_type": "code",
   "execution_count": 3,
   "id": "827cf7e9",
   "metadata": {},
   "outputs": [
    {
     "name": "stdout",
     "output_type": "stream",
     "text": [
      "<class 'pandas.core.frame.DataFrame'>\n",
      "RangeIndex: 5 entries, 0 to 4\n",
      "Data columns (total 5 columns):\n",
      " #   Column       Non-Null Count  Dtype \n",
      "---  ------       --------------  ----- \n",
      " 0   full_name    5 non-null      object\n",
      " 1   email        4 non-null      object\n",
      " 2   phone        4 non-null      object\n",
      " 3   address      5 non-null      object\n",
      " 4   signup_date  5 non-null      object\n",
      "dtypes: object(5)\n",
      "memory usage: 332.0+ bytes\n"
     ]
    },
    {
     "data": {
      "text/html": [
       "<div>\n",
       "<style scoped>\n",
       "    .dataframe tbody tr th:only-of-type {\n",
       "        vertical-align: middle;\n",
       "    }\n",
       "\n",
       "    .dataframe tbody tr th {\n",
       "        vertical-align: top;\n",
       "    }\n",
       "\n",
       "    .dataframe thead th {\n",
       "        text-align: right;\n",
       "    }\n",
       "</style>\n",
       "<table border=\"1\" class=\"dataframe\">\n",
       "  <thead>\n",
       "    <tr style=\"text-align: right;\">\n",
       "      <th></th>\n",
       "      <th>full_name</th>\n",
       "      <th>email</th>\n",
       "      <th>phone</th>\n",
       "      <th>address</th>\n",
       "      <th>signup_date</th>\n",
       "    </tr>\n",
       "  </thead>\n",
       "  <tbody>\n",
       "    <tr>\n",
       "      <th>0</th>\n",
       "      <td>ana paula</td>\n",
       "      <td>ANA.PAULA@GMAIL.COM</td>\n",
       "      <td>+55 (11) 91234-5678</td>\n",
       "      <td>Av. Paulista, 1000 - SP</td>\n",
       "      <td>12-03-2024</td>\n",
       "    </tr>\n",
       "    <tr>\n",
       "      <th>1</th>\n",
       "      <td>joão da silva</td>\n",
       "      <td>joao.silva@@gmail</td>\n",
       "      <td>11999999999</td>\n",
       "      <td>Rua das Laranjeiras, 45 - Rio de Janeiro</td>\n",
       "      <td>2024/03/14</td>\n",
       "    </tr>\n",
       "    <tr>\n",
       "      <th>2</th>\n",
       "      <td>Maria Oliveira</td>\n",
       "      <td>Maria.Oliveira@gmail.com</td>\n",
       "      <td>21-98888-7777</td>\n",
       "      <td>Av Brasil 500,RJ</td>\n",
       "      <td>14.03.2024</td>\n",
       "    </tr>\n",
       "    <tr>\n",
       "      <th>3</th>\n",
       "      <td>LUCAS LIMA</td>\n",
       "      <td>lucas.lima@GMAIL.com</td>\n",
       "      <td>NaN</td>\n",
       "      <td>Avenida das Américas 3000 - RJ</td>\n",
       "      <td>15/03/24</td>\n",
       "    </tr>\n",
       "    <tr>\n",
       "      <th>4</th>\n",
       "      <td>patricia gomes</td>\n",
       "      <td>NaN</td>\n",
       "      <td>(11)98888-2222</td>\n",
       "      <td>Rua A, SP</td>\n",
       "      <td>March 16, 2024</td>\n",
       "    </tr>\n",
       "  </tbody>\n",
       "</table>\n",
       "</div>"
      ],
      "text/plain": [
       "        full_name                     email                phone  \\\n",
       "0       ana paula       ANA.PAULA@GMAIL.COM  +55 (11) 91234-5678   \n",
       "1   joão da silva         joao.silva@@gmail          11999999999   \n",
       "2  Maria Oliveira  Maria.Oliveira@gmail.com        21-98888-7777   \n",
       "3      LUCAS LIMA      lucas.lima@GMAIL.com                  NaN   \n",
       "4  patricia gomes                       NaN       (11)98888-2222   \n",
       "\n",
       "                                    address     signup_date  \n",
       "0                   Av. Paulista, 1000 - SP      12-03-2024  \n",
       "1  Rua das Laranjeiras, 45 - Rio de Janeiro      2024/03/14  \n",
       "2                          Av Brasil 500,RJ      14.03.2024  \n",
       "3            Avenida das Américas 3000 - RJ        15/03/24  \n",
       "4                                 Rua A, SP  March 16, 2024  "
      ]
     },
     "execution_count": 3,
     "metadata": {},
     "output_type": "execute_result"
    }
   ],
   "source": [
    "df.info()\n",
    "df"
   ]
  },
  {
   "cell_type": "markdown",
   "id": "c7bde5e8",
   "metadata": {},
   "source": [
    "# Data Quality Issues Identified:\n",
    "\n",
    "- `full_name`: Wrong formating\n",
    "- `email`: Wrong formating and missing value\n",
    "- `phone`: Wrong pattern\n",
    "- `signup_date`: Wrong formating"
   ]
  },
  {
   "cell_type": "markdown",
   "id": "15ca766e",
   "metadata": {},
   "source": [
    "### `full_name`"
   ]
  },
  {
   "cell_type": "code",
   "execution_count": 4,
   "id": "51a0651a",
   "metadata": {},
   "outputs": [
    {
     "data": {
      "text/html": [
       "<div>\n",
       "<style scoped>\n",
       "    .dataframe tbody tr th:only-of-type {\n",
       "        vertical-align: middle;\n",
       "    }\n",
       "\n",
       "    .dataframe tbody tr th {\n",
       "        vertical-align: top;\n",
       "    }\n",
       "\n",
       "    .dataframe thead th {\n",
       "        text-align: right;\n",
       "    }\n",
       "</style>\n",
       "<table border=\"1\" class=\"dataframe\">\n",
       "  <thead>\n",
       "    <tr style=\"text-align: right;\">\n",
       "      <th></th>\n",
       "      <th>full_name</th>\n",
       "      <th>email</th>\n",
       "      <th>phone</th>\n",
       "      <th>address</th>\n",
       "      <th>signup_date</th>\n",
       "    </tr>\n",
       "  </thead>\n",
       "  <tbody>\n",
       "  </tbody>\n",
       "</table>\n",
       "</div>"
      ],
      "text/plain": [
       "Empty DataFrame\n",
       "Columns: [full_name, email, phone, address, signup_date]\n",
       "Index: []"
      ]
     },
     "execution_count": 4,
     "metadata": {},
     "output_type": "execute_result"
    }
   ],
   "source": [
    "# First, ill standardize the `full_name` column by converting it to title case\n",
    "df['full_name'] = df['full_name'].str.title()\n",
    "# Now, ill check if there is any blank spaces before or after the names\n",
    "df[df['full_name'] != df['full_name'].str.strip()]"
   ]
  },
  {
   "cell_type": "markdown",
   "id": "be9e2b82",
   "metadata": {},
   "source": [
    "Perfect, now everything is correct."
   ]
  },
  {
   "cell_type": "markdown",
   "id": "43511b63",
   "metadata": {},
   "source": [
    "### `email`"
   ]
  },
  {
   "cell_type": "code",
   "execution_count": 5,
   "id": "4f737246",
   "metadata": {},
   "outputs": [],
   "source": [
    "# First, ill standardize the `email` column by converting it to lowercase\n",
    "df['email'] = df['email'].str.lower()"
   ]
  },
  {
   "cell_type": "code",
   "execution_count": 6,
   "id": "97da0e50",
   "metadata": {},
   "outputs": [
    {
     "data": {
      "text/html": [
       "<div>\n",
       "<style scoped>\n",
       "    .dataframe tbody tr th:only-of-type {\n",
       "        vertical-align: middle;\n",
       "    }\n",
       "\n",
       "    .dataframe tbody tr th {\n",
       "        vertical-align: top;\n",
       "    }\n",
       "\n",
       "    .dataframe thead th {\n",
       "        text-align: right;\n",
       "    }\n",
       "</style>\n",
       "<table border=\"1\" class=\"dataframe\">\n",
       "  <thead>\n",
       "    <tr style=\"text-align: right;\">\n",
       "      <th></th>\n",
       "      <th>full_name</th>\n",
       "      <th>email</th>\n",
       "      <th>phone</th>\n",
       "      <th>address</th>\n",
       "      <th>signup_date</th>\n",
       "    </tr>\n",
       "  </thead>\n",
       "  <tbody>\n",
       "    <tr>\n",
       "      <th>4</th>\n",
       "      <td>Patricia Gomes</td>\n",
       "      <td>NaN</td>\n",
       "      <td>(11)98888-2222</td>\n",
       "      <td>Rua A, SP</td>\n",
       "      <td>March 16, 2024</td>\n",
       "    </tr>\n",
       "  </tbody>\n",
       "</table>\n",
       "</div>"
      ],
      "text/plain": [
       "        full_name email           phone    address     signup_date\n",
       "4  Patricia Gomes   NaN  (11)98888-2222  Rua A, SP  March 16, 2024"
      ]
     },
     "metadata": {},
     "output_type": "display_data"
    }
   ],
   "source": [
    "# Now, lets check if there are any missing values in the `email` column\n",
    "display(df[df['email'].isnull()])"
   ]
  },
  {
   "cell_type": "code",
   "execution_count": 7,
   "id": "1293e12c",
   "metadata": {},
   "outputs": [
    {
     "data": {
      "text/html": [
       "<div>\n",
       "<style scoped>\n",
       "    .dataframe tbody tr th:only-of-type {\n",
       "        vertical-align: middle;\n",
       "    }\n",
       "\n",
       "    .dataframe tbody tr th {\n",
       "        vertical-align: top;\n",
       "    }\n",
       "\n",
       "    .dataframe thead th {\n",
       "        text-align: right;\n",
       "    }\n",
       "</style>\n",
       "<table border=\"1\" class=\"dataframe\">\n",
       "  <thead>\n",
       "    <tr style=\"text-align: right;\">\n",
       "      <th></th>\n",
       "      <th>full_name</th>\n",
       "      <th>email</th>\n",
       "      <th>phone</th>\n",
       "      <th>address</th>\n",
       "      <th>signup_date</th>\n",
       "    </tr>\n",
       "  </thead>\n",
       "  <tbody>\n",
       "    <tr>\n",
       "      <th>0</th>\n",
       "      <td>Ana Paula</td>\n",
       "      <td>ana.paula@gmail.com</td>\n",
       "      <td>+55 (11) 91234-5678</td>\n",
       "      <td>Av. Paulista, 1000 - SP</td>\n",
       "      <td>12-03-2024</td>\n",
       "    </tr>\n",
       "    <tr>\n",
       "      <th>1</th>\n",
       "      <td>João Da Silva</td>\n",
       "      <td>joao.silva@@gmail</td>\n",
       "      <td>11999999999</td>\n",
       "      <td>Rua das Laranjeiras, 45 - Rio de Janeiro</td>\n",
       "      <td>2024/03/14</td>\n",
       "    </tr>\n",
       "    <tr>\n",
       "      <th>2</th>\n",
       "      <td>Maria Oliveira</td>\n",
       "      <td>maria.oliveira@gmail.com</td>\n",
       "      <td>21-98888-7777</td>\n",
       "      <td>Av Brasil 500,RJ</td>\n",
       "      <td>14.03.2024</td>\n",
       "    </tr>\n",
       "    <tr>\n",
       "      <th>3</th>\n",
       "      <td>Lucas Lima</td>\n",
       "      <td>lucas.lima@gmail.com</td>\n",
       "      <td>NaN</td>\n",
       "      <td>Avenida das Américas 3000 - RJ</td>\n",
       "      <td>15/03/24</td>\n",
       "    </tr>\n",
       "    <tr>\n",
       "      <th>4</th>\n",
       "      <td>Patricia Gomes</td>\n",
       "      <td></td>\n",
       "      <td>(11)98888-2222</td>\n",
       "      <td>Rua A, SP</td>\n",
       "      <td>March 16, 2024</td>\n",
       "    </tr>\n",
       "  </tbody>\n",
       "</table>\n",
       "</div>"
      ],
      "text/plain": [
       "        full_name                     email                phone  \\\n",
       "0       Ana Paula       ana.paula@gmail.com  +55 (11) 91234-5678   \n",
       "1   João Da Silva         joao.silva@@gmail          11999999999   \n",
       "2  Maria Oliveira  maria.oliveira@gmail.com        21-98888-7777   \n",
       "3      Lucas Lima      lucas.lima@gmail.com                  NaN   \n",
       "4  Patricia Gomes                                 (11)98888-2222   \n",
       "\n",
       "                                    address     signup_date  \n",
       "0                   Av. Paulista, 1000 - SP      12-03-2024  \n",
       "1  Rua das Laranjeiras, 45 - Rio de Janeiro      2024/03/14  \n",
       "2                          Av Brasil 500,RJ      14.03.2024  \n",
       "3            Avenida das Américas 3000 - RJ        15/03/24  \n",
       "4                                 Rua A, SP  March 16, 2024  "
      ]
     },
     "execution_count": 7,
     "metadata": {},
     "output_type": "execute_result"
    }
   ],
   "source": [
    "# Ill get rid of the NaN values in the `email` column\n",
    "df['email'] = df['email'].fillna('')\n",
    "df"
   ]
  },
  {
   "cell_type": "code",
   "execution_count": 8,
   "id": "506e7cd3",
   "metadata": {},
   "outputs": [
    {
     "data": {
      "text/html": [
       "<div>\n",
       "<style scoped>\n",
       "    .dataframe tbody tr th:only-of-type {\n",
       "        vertical-align: middle;\n",
       "    }\n",
       "\n",
       "    .dataframe tbody tr th {\n",
       "        vertical-align: top;\n",
       "    }\n",
       "\n",
       "    .dataframe thead th {\n",
       "        text-align: right;\n",
       "    }\n",
       "</style>\n",
       "<table border=\"1\" class=\"dataframe\">\n",
       "  <thead>\n",
       "    <tr style=\"text-align: right;\">\n",
       "      <th></th>\n",
       "      <th>full_name</th>\n",
       "      <th>email</th>\n",
       "      <th>phone</th>\n",
       "      <th>address</th>\n",
       "      <th>signup_date</th>\n",
       "    </tr>\n",
       "  </thead>\n",
       "  <tbody>\n",
       "    <tr>\n",
       "      <th>0</th>\n",
       "      <td>Ana Paula</td>\n",
       "      <td>ana.paula@gmail.com</td>\n",
       "      <td>+55 (11) 91234-5678</td>\n",
       "      <td>Av. Paulista, 1000 - SP</td>\n",
       "      <td>12-03-2024</td>\n",
       "    </tr>\n",
       "    <tr>\n",
       "      <th>1</th>\n",
       "      <td>João Da Silva</td>\n",
       "      <td>joao.silva@gmail</td>\n",
       "      <td>11999999999</td>\n",
       "      <td>Rua das Laranjeiras, 45 - Rio de Janeiro</td>\n",
       "      <td>2024/03/14</td>\n",
       "    </tr>\n",
       "    <tr>\n",
       "      <th>2</th>\n",
       "      <td>Maria Oliveira</td>\n",
       "      <td>maria.oliveira@gmail.com</td>\n",
       "      <td>21-98888-7777</td>\n",
       "      <td>Av Brasil 500,RJ</td>\n",
       "      <td>14.03.2024</td>\n",
       "    </tr>\n",
       "    <tr>\n",
       "      <th>3</th>\n",
       "      <td>Lucas Lima</td>\n",
       "      <td>lucas.lima@gmail.com</td>\n",
       "      <td>NaN</td>\n",
       "      <td>Avenida das Américas 3000 - RJ</td>\n",
       "      <td>15/03/24</td>\n",
       "    </tr>\n",
       "    <tr>\n",
       "      <th>4</th>\n",
       "      <td>Patricia Gomes</td>\n",
       "      <td></td>\n",
       "      <td>(11)98888-2222</td>\n",
       "      <td>Rua A, SP</td>\n",
       "      <td>March 16, 2024</td>\n",
       "    </tr>\n",
       "  </tbody>\n",
       "</table>\n",
       "</div>"
      ],
      "text/plain": [
       "        full_name                     email                phone  \\\n",
       "0       Ana Paula       ana.paula@gmail.com  +55 (11) 91234-5678   \n",
       "1   João Da Silva          joao.silva@gmail          11999999999   \n",
       "2  Maria Oliveira  maria.oliveira@gmail.com        21-98888-7777   \n",
       "3      Lucas Lima      lucas.lima@gmail.com                  NaN   \n",
       "4  Patricia Gomes                                 (11)98888-2222   \n",
       "\n",
       "                                    address     signup_date  \n",
       "0                   Av. Paulista, 1000 - SP      12-03-2024  \n",
       "1  Rua das Laranjeiras, 45 - Rio de Janeiro      2024/03/14  \n",
       "2                          Av Brasil 500,RJ      14.03.2024  \n",
       "3            Avenida das Américas 3000 - RJ        15/03/24  \n",
       "4                                 Rua A, SP  March 16, 2024  "
      ]
     },
     "execution_count": 8,
     "metadata": {},
     "output_type": "execute_result"
    }
   ],
   "source": [
    "# Now, lets check if all emails are in the correct format\n",
    "df[~df['email'].str.contains(r'^[\\w\\.-]+@[\\w\\.-]+\\.\\w+$', na=False)]\n",
    "\n",
    "# There is one email that is not in the correct format, lets fix it\n",
    "df['email'] = df['email'].str.replace('@@', '@')\n",
    "df"
   ]
  },
  {
   "cell_type": "markdown",
   "id": "10ec9eaa",
   "metadata": {},
   "source": [
    "Now this column is fixed."
   ]
  },
  {
   "cell_type": "markdown",
   "id": "a1010653",
   "metadata": {},
   "source": [
    "### `phone`"
   ]
  },
  {
   "cell_type": "code",
   "execution_count": 9,
   "id": "0d1ce451",
   "metadata": {},
   "outputs": [
    {
     "data": {
      "text/html": [
       "<div>\n",
       "<style scoped>\n",
       "    .dataframe tbody tr th:only-of-type {\n",
       "        vertical-align: middle;\n",
       "    }\n",
       "\n",
       "    .dataframe tbody tr th {\n",
       "        vertical-align: top;\n",
       "    }\n",
       "\n",
       "    .dataframe thead th {\n",
       "        text-align: right;\n",
       "    }\n",
       "</style>\n",
       "<table border=\"1\" class=\"dataframe\">\n",
       "  <thead>\n",
       "    <tr style=\"text-align: right;\">\n",
       "      <th></th>\n",
       "      <th>full_name</th>\n",
       "      <th>email</th>\n",
       "      <th>phone</th>\n",
       "      <th>address</th>\n",
       "      <th>signup_date</th>\n",
       "    </tr>\n",
       "  </thead>\n",
       "  <tbody>\n",
       "    <tr>\n",
       "      <th>0</th>\n",
       "      <td>Ana Paula</td>\n",
       "      <td>ana.paula@gmail.com</td>\n",
       "      <td>5511912345678</td>\n",
       "      <td>Av. Paulista, 1000 - SP</td>\n",
       "      <td>12-03-2024</td>\n",
       "    </tr>\n",
       "    <tr>\n",
       "      <th>1</th>\n",
       "      <td>João Da Silva</td>\n",
       "      <td>joao.silva@gmail</td>\n",
       "      <td>11999999999</td>\n",
       "      <td>Rua das Laranjeiras, 45 - Rio de Janeiro</td>\n",
       "      <td>2024/03/14</td>\n",
       "    </tr>\n",
       "    <tr>\n",
       "      <th>2</th>\n",
       "      <td>Maria Oliveira</td>\n",
       "      <td>maria.oliveira@gmail.com</td>\n",
       "      <td>21988887777</td>\n",
       "      <td>Av Brasil 500,RJ</td>\n",
       "      <td>14.03.2024</td>\n",
       "    </tr>\n",
       "    <tr>\n",
       "      <th>3</th>\n",
       "      <td>Lucas Lima</td>\n",
       "      <td>lucas.lima@gmail.com</td>\n",
       "      <td></td>\n",
       "      <td>Avenida das Américas 3000 - RJ</td>\n",
       "      <td>15/03/24</td>\n",
       "    </tr>\n",
       "    <tr>\n",
       "      <th>4</th>\n",
       "      <td>Patricia Gomes</td>\n",
       "      <td></td>\n",
       "      <td>11988882222</td>\n",
       "      <td>Rua A, SP</td>\n",
       "      <td>March 16, 2024</td>\n",
       "    </tr>\n",
       "  </tbody>\n",
       "</table>\n",
       "</div>"
      ],
      "text/plain": [
       "        full_name                     email          phone  \\\n",
       "0       Ana Paula       ana.paula@gmail.com  5511912345678   \n",
       "1   João Da Silva          joao.silva@gmail    11999999999   \n",
       "2  Maria Oliveira  maria.oliveira@gmail.com    21988887777   \n",
       "3      Lucas Lima      lucas.lima@gmail.com                  \n",
       "4  Patricia Gomes                              11988882222   \n",
       "\n",
       "                                    address     signup_date  \n",
       "0                   Av. Paulista, 1000 - SP      12-03-2024  \n",
       "1  Rua das Laranjeiras, 45 - Rio de Janeiro      2024/03/14  \n",
       "2                          Av Brasil 500,RJ      14.03.2024  \n",
       "3            Avenida das Américas 3000 - RJ        15/03/24  \n",
       "4                                 Rua A, SP  March 16, 2024  "
      ]
     },
     "execution_count": 9,
     "metadata": {},
     "output_type": "execute_result"
    }
   ],
   "source": [
    "# The column phone is not in the correct format, lets fix it\n",
    "df['phone'] = df['phone'].str.replace(r'\\D', '', regex=True) # Its to remove all non-digit characters\n",
    "# And ill also remove the NaN values\n",
    "df['phone'] = df['phone'].fillna('')\n",
    "df"
   ]
  },
  {
   "cell_type": "code",
   "execution_count": 10,
   "id": "f41170ce",
   "metadata": {},
   "outputs": [
    {
     "data": {
      "text/plain": [
       "np.True_"
      ]
     },
     "metadata": {},
     "output_type": "display_data"
    }
   ],
   "source": [
    "# Some numbers have the country code, lets remove it\n",
    "df['phone'] = df['phone'].str.replace(r'^55', '', regex=True) # Its removing the first two digits if they are '55'\n",
    "\n",
    "# Now lets check if all phone numbers are in the correct format\n",
    "display((df['phone'][df['phone'] != ''].str.len() == 11).all()) # This checks if all phone numbers have 11 digits, excluding the empty ones"
   ]
  },
  {
   "cell_type": "code",
   "execution_count": 11,
   "id": "fdf85de7",
   "metadata": {},
   "outputs": [
    {
     "data": {
      "text/plain": [
       "0    11 91234-5678\n",
       "1    11 99999-9999\n",
       "2    21 98888-7777\n",
       "3                -\n",
       "4    11 98888-2222\n",
       "Name: phone, dtype: object"
      ]
     },
     "execution_count": 11,
     "metadata": {},
     "output_type": "execute_result"
    }
   ],
   "source": [
    "# Now lets format the phone numbers to the Brazilian format XX XXXXX-XXXX\n",
    "df['phone'] = df['phone'].apply(lambda x: x[:2] + ' ' + x[2:7] + '-' + x[7:])\n",
    "\n",
    "df['phone']"
   ]
  },
  {
   "cell_type": "markdown",
   "id": "aff3d11c",
   "metadata": {},
   "source": [
    "Now this column is fixed."
   ]
  },
  {
   "cell_type": "markdown",
   "id": "2b22767f",
   "metadata": {},
   "source": [
    "`signup_date`"
   ]
  },
  {
   "cell_type": "code",
   "execution_count": 12,
   "id": "44ac58f8",
   "metadata": {},
   "outputs": [
    {
     "data": {
      "text/html": [
       "<div>\n",
       "<style scoped>\n",
       "    .dataframe tbody tr th:only-of-type {\n",
       "        vertical-align: middle;\n",
       "    }\n",
       "\n",
       "    .dataframe tbody tr th {\n",
       "        vertical-align: top;\n",
       "    }\n",
       "\n",
       "    .dataframe thead th {\n",
       "        text-align: right;\n",
       "    }\n",
       "</style>\n",
       "<table border=\"1\" class=\"dataframe\">\n",
       "  <thead>\n",
       "    <tr style=\"text-align: right;\">\n",
       "      <th></th>\n",
       "      <th>full_name</th>\n",
       "      <th>email</th>\n",
       "      <th>phone</th>\n",
       "      <th>address</th>\n",
       "      <th>signup_date</th>\n",
       "    </tr>\n",
       "  </thead>\n",
       "  <tbody>\n",
       "    <tr>\n",
       "      <th>0</th>\n",
       "      <td>Ana Paula</td>\n",
       "      <td>ana.paula@gmail.com</td>\n",
       "      <td>11 91234-5678</td>\n",
       "      <td>Av. Paulista, 1000 - SP</td>\n",
       "      <td>2024-03-12</td>\n",
       "    </tr>\n",
       "    <tr>\n",
       "      <th>1</th>\n",
       "      <td>João Da Silva</td>\n",
       "      <td>joao.silva@gmail</td>\n",
       "      <td>11 99999-9999</td>\n",
       "      <td>Rua das Laranjeiras, 45 - Rio de Janeiro</td>\n",
       "      <td>2024-03-14</td>\n",
       "    </tr>\n",
       "    <tr>\n",
       "      <th>2</th>\n",
       "      <td>Maria Oliveira</td>\n",
       "      <td>maria.oliveira@gmail.com</td>\n",
       "      <td>21 98888-7777</td>\n",
       "      <td>Av Brasil 500,RJ</td>\n",
       "      <td>2024-03-14</td>\n",
       "    </tr>\n",
       "    <tr>\n",
       "      <th>3</th>\n",
       "      <td>Lucas Lima</td>\n",
       "      <td>lucas.lima@gmail.com</td>\n",
       "      <td>-</td>\n",
       "      <td>Avenida das Américas 3000 - RJ</td>\n",
       "      <td>2024-03-15</td>\n",
       "    </tr>\n",
       "    <tr>\n",
       "      <th>4</th>\n",
       "      <td>Patricia Gomes</td>\n",
       "      <td></td>\n",
       "      <td>11 98888-2222</td>\n",
       "      <td>Rua A, SP</td>\n",
       "      <td>2024-03-16</td>\n",
       "    </tr>\n",
       "  </tbody>\n",
       "</table>\n",
       "</div>"
      ],
      "text/plain": [
       "        full_name                     email          phone  \\\n",
       "0       Ana Paula       ana.paula@gmail.com  11 91234-5678   \n",
       "1   João Da Silva          joao.silva@gmail  11 99999-9999   \n",
       "2  Maria Oliveira  maria.oliveira@gmail.com  21 98888-7777   \n",
       "3      Lucas Lima      lucas.lima@gmail.com              -   \n",
       "4  Patricia Gomes                            11 98888-2222   \n",
       "\n",
       "                                    address signup_date  \n",
       "0                   Av. Paulista, 1000 - SP  2024-03-12  \n",
       "1  Rua das Laranjeiras, 45 - Rio de Janeiro  2024-03-14  \n",
       "2                          Av Brasil 500,RJ  2024-03-14  \n",
       "3            Avenida das Américas 3000 - RJ  2024-03-15  \n",
       "4                                 Rua A, SP  2024-03-16  "
      ]
     },
     "execution_count": 12,
     "metadata": {},
     "output_type": "execute_result"
    }
   ],
   "source": [
    "# # The column signup_date is in the correct format, but lets convert it to datetime\n",
    "# def parse_date(date_str):\n",
    "#     try:\n",
    "#         # Try to parse as day/month/year\n",
    "#         return pd.to_datetime(date_str, format='%d-%m-%Y', errors='raise')\n",
    "#     except ValueError:\n",
    "#         # If it fails, try to parse as month/day/year\n",
    "#         return pd.to_datetime(date_str, dayfirst=True)\n",
    "    \n",
    "# df['signup_date'] = df['signup_date'].apply(parse_date) # Applying the function to the column\n",
    "\n",
    "df['signup_date'] = pd.to_datetime(df['signup_date'], dayfirst= True, format='mixed')\n",
    "\n",
    "df"
   ]
  },
  {
   "cell_type": "markdown",
   "id": "9e8d1795",
   "metadata": {},
   "source": [
    "# Summary of Cleaning\n",
    "\n",
    "- Cleaned `full_name` (capitalization and spaces)  \n",
    "- Cleaned `email` (removed missing values and fixed typos)  \n",
    "- Cleaned `phone` (standardized its format)\n",
    "- Cleaned `signedup_date` (standardized its format)\n",
    "\n",
    "The cleaned dataset can now be saved and used in future analysis."
   ]
  },
  {
   "cell_type": "code",
   "execution_count": null,
   "id": "7beaf1f9",
   "metadata": {},
   "outputs": [],
   "source": [
    "df.to_csv('clientes_limpo.csv', index=False)"
   ]
  }
 ],
 "metadata": {
  "kernelspec": {
   "display_name": "Python 3",
   "language": "python",
   "name": "python3"
  },
  "language_info": {
   "codemirror_mode": {
    "name": "ipython",
    "version": 3
   },
   "file_extension": ".py",
   "mimetype": "text/x-python",
   "name": "python",
   "nbconvert_exporter": "python",
   "pygments_lexer": "ipython3",
   "version": "3.13.1"
  }
 },
 "nbformat": 4,
 "nbformat_minor": 5
}
